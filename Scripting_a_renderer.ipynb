{
  "nbformat": 4,
  "nbformat_minor": 0,
  "metadata": {
    "colab": {
      "provenance": [],
      "authorship_tag": "ABX9TyO8kPiu1Su4oQHQj3tfVGUk",
      "include_colab_link": true
    },
    "kernelspec": {
      "name": "python3",
      "display_name": "Python 3"
    },
    "language_info": {
      "name": "python"
    }
  },
  "cells": [
    {
      "cell_type": "markdown",
      "metadata": {
        "id": "view-in-github",
        "colab_type": "text"
      },
      "source": [
        "<a href=\"https://colab.research.google.com/github/henrya2/MitsubaPlayground/blob/main/Scripting_a_renderer.ipynb\" target=\"_parent\"><img src=\"https://colab.research.google.com/assets/colab-badge.svg\" alt=\"Open In Colab\"/></a>"
      ]
    },
    {
      "cell_type": "code",
      "execution_count": null,
      "metadata": {
        "id": "r-MTGtoc4JUJ"
      },
      "outputs": [],
      "source": []
    },
    {
      "cell_type": "code",
      "execution_count": 1,
      "metadata": {
        "colab": {
          "base_uri": "https://localhost:8080/"
        },
        "id": "iHs7D6kLXIRF",
        "outputId": "59695264-5bf8-453c-cd85-baeb4de2aba3"
      },
      "outputs": [
        {
          "output_type": "stream",
          "name": "stdout",
          "text": [
            "Collecting mitsuba\n",
            "  Downloading mitsuba-3.4.0-cp310-cp310-manylinux2014_x86_64.manylinux_2_17_x86_64.whl (39.3 MB)\n",
            "\u001b[2K     \u001b[90m━━━━━━━━━━━━━━━━━━━━━━━━━━━━━━━━━━━━━━━━\u001b[0m \u001b[32m39.3/39.3 MB\u001b[0m \u001b[31m37.9 MB/s\u001b[0m eta \u001b[36m0:00:00\u001b[0m\n",
            "\u001b[?25hCollecting drjit==0.4.3 (from mitsuba)\n",
            "  Downloading drjit-0.4.3-cp310-cp310-manylinux_2_17_x86_64.manylinux2014_x86_64.whl (4.6 MB)\n",
            "\u001b[2K     \u001b[90m━━━━━━━━━━━━━━━━━━━━━━━━━━━━━━━━━━━━━━━━\u001b[0m \u001b[32m4.6/4.6 MB\u001b[0m \u001b[31m35.8 MB/s\u001b[0m eta \u001b[36m0:00:00\u001b[0m\n",
            "\u001b[?25hInstalling collected packages: drjit, mitsuba\n",
            "Successfully installed drjit-0.4.3 mitsuba-3.4.0\n",
            "rm: cannot remove 'scenes.zip': No such file or directory\n",
            "--2023-10-12 12:33:54--  https://rgl.s3.eu-central-1.amazonaws.com/scenes/tutorials/scenes.zip\n",
            "Resolving rgl.s3.eu-central-1.amazonaws.com (rgl.s3.eu-central-1.amazonaws.com)... 52.219.168.49, 3.5.135.121, 3.5.134.169, ...\n",
            "Connecting to rgl.s3.eu-central-1.amazonaws.com (rgl.s3.eu-central-1.amazonaws.com)|52.219.168.49|:443... connected.\n",
            "HTTP request sent, awaiting response... 200 OK\n",
            "Length: 9765095 (9.3M) [application/zip]\n",
            "Saving to: ‘scenes.zip’\n",
            "\n",
            "scenes.zip          100%[===================>]   9.31M  7.26MB/s    in 1.3s    \n",
            "\n",
            "2023-10-12 12:33:56 (7.26 MB/s) - ‘scenes.zip’ saved [9765095/9765095]\n",
            "\n"
          ]
        }
      ],
      "source": [
        "!pip install mitsuba\n",
        "\n",
        "!rm scenes.zip\n",
        "!wget https://rgl.s3.eu-central-1.amazonaws.com/scenes/tutorials/scenes.zip\n",
        "\n",
        "# importing the zipfile module\n",
        "from zipfile import ZipFile\n",
        "\n",
        "# loading the temp.zip and creating a zip object\n",
        "with ZipFile(\"./scenes.zip\", 'r') as zObject:\n",
        "\n",
        "    # Extracting all the members of the zip\n",
        "    # into a specific location.\n",
        "    zObject.extractall(\n",
        "        path=\"../scenes/\")"
      ]
    },
    {
      "cell_type": "code",
      "source": [],
      "metadata": {
        "id": "X1hgciMu4OJs"
      },
      "execution_count": null,
      "outputs": []
    }
  ]
}